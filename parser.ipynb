{
 "metadata": {
  "language_info": {
   "codemirror_mode": {
    "name": "ipython",
    "version": 3
   },
   "file_extension": ".py",
   "mimetype": "text/x-python",
   "name": "python",
   "nbconvert_exporter": "python",
   "pygments_lexer": "ipython3",
   "version": "3.8.3-final"
  },
  "orig_nbformat": 2,
  "kernelspec": {
   "name": "python3",
   "display_name": "Python 3"
  }
 },
 "nbformat": 4,
 "nbformat_minor": 2,
 "cells": [
  {
   "cell_type": "code",
   "execution_count": 19,
   "metadata": {},
   "outputs": [],
   "source": [
    "def get_lines(filename):\n",
    "    file = open(filename, 'r+')\n",
    "    lines = file.readlines()\n",
    "    #\n",
    "    lines = map(lambda line : line[:-1],lines)\n",
    "    file.close()\n",
    "    return lines"
   ]
  },
  {
   "source": [],
   "cell_type": "code",
   "metadata": {},
   "execution_count": null,
   "outputs": []
  },
  {
   "cell_type": "code",
   "execution_count": 20,
   "metadata": {},
   "outputs": [],
   "source": [
    "lines = get_lines('./tests/ejercicio1.txt')"
   ]
  },
  {
   "cell_type": "code",
   "execution_count": 21,
   "metadata": {},
   "outputs": [],
   "source": [
    "import pandas as pd"
   ]
  },
  {
   "cell_type": "code",
   "execution_count": 22,
   "metadata": {},
   "outputs": [
    {
     "output_type": "execute_result",
     "data": {
      "text/plain": [
       "            Line\n",
       "0         Inicio\n",
       "1          Lea n\n",
       "2  Para i=1,n,+1\n",
       "3  Para j=1,n,+1\n",
       "4    Lea A(i,,j)"
      ],
      "text/html": "<div>\n<style scoped>\n    .dataframe tbody tr th:only-of-type {\n        vertical-align: middle;\n    }\n\n    .dataframe tbody tr th {\n        vertical-align: top;\n    }\n\n    .dataframe thead th {\n        text-align: right;\n    }\n</style>\n<table border=\"1\" class=\"dataframe\">\n  <thead>\n    <tr style=\"text-align: right;\">\n      <th></th>\n      <th>Line</th>\n    </tr>\n  </thead>\n  <tbody>\n    <tr>\n      <th>0</th>\n      <td>Inicio</td>\n    </tr>\n    <tr>\n      <th>1</th>\n      <td>Lea n</td>\n    </tr>\n    <tr>\n      <th>2</th>\n      <td>Para i=1,n,+1</td>\n    </tr>\n    <tr>\n      <th>3</th>\n      <td>Para j=1,n,+1</td>\n    </tr>\n    <tr>\n      <th>4</th>\n      <td>Lea A(i,,j)</td>\n    </tr>\n  </tbody>\n</table>\n</div>"
     },
     "metadata": {},
     "execution_count": 22
    }
   ],
   "source": [
    "syntax = pd.DataFrame(data=lines, columns=['Line'])\n",
    "syntax.head()"
   ]
  },
  {
   "cell_type": "code",
   "execution_count": 24,
   "metadata": {},
   "outputs": [
    {
     "output_type": "execute_result",
     "data": {
      "text/plain": [
       "            Line  length\n",
       "0         Inicio       6\n",
       "1          Lea n       5\n",
       "2  Para i=1,n,+1      13\n",
       "3  Para j=1,n,+1      13\n",
       "4    Lea A(i,,j)      11"
      ],
      "text/html": "<div>\n<style scoped>\n    .dataframe tbody tr th:only-of-type {\n        vertical-align: middle;\n    }\n\n    .dataframe tbody tr th {\n        vertical-align: top;\n    }\n\n    .dataframe thead th {\n        text-align: right;\n    }\n</style>\n<table border=\"1\" class=\"dataframe\">\n  <thead>\n    <tr style=\"text-align: right;\">\n      <th></th>\n      <th>Line</th>\n      <th>length</th>\n    </tr>\n  </thead>\n  <tbody>\n    <tr>\n      <th>0</th>\n      <td>Inicio</td>\n      <td>6</td>\n    </tr>\n    <tr>\n      <th>1</th>\n      <td>Lea n</td>\n      <td>5</td>\n    </tr>\n    <tr>\n      <th>2</th>\n      <td>Para i=1,n,+1</td>\n      <td>13</td>\n    </tr>\n    <tr>\n      <th>3</th>\n      <td>Para j=1,n,+1</td>\n      <td>13</td>\n    </tr>\n    <tr>\n      <th>4</th>\n      <td>Lea A(i,,j)</td>\n      <td>11</td>\n    </tr>\n  </tbody>\n</table>\n</div>"
     },
     "metadata": {},
     "execution_count": 24
    }
   ],
   "source": [
    "syntax[\"length\"] = syntax[\"Line\"].map(lambda line: len(line))\n",
    "syntax.head()"
   ]
  },
  {
   "cell_type": "code",
   "execution_count": 32,
   "metadata": {},
   "outputs": [
    {
     "output_type": "execute_result",
     "data": {
      "text/plain": [
       "                   Line  length               Type\n",
       "0                Inicio       6             inicio\n",
       "1                 Lea n       5                lea\n",
       "2         Para i=1,n,+1      13               para\n",
       "3         Para j=1,n,+1      13               para\n",
       "4           Lea A(i,,j)      11                lea\n",
       "5                 Fpara       5              fpara\n",
       "6                 Fpara       5              fpara\n",
       "7         Para i=1,n,+1      13               para\n",
       "8         Para j=1,n,+1      13               para\n",
       "9           Lea B(i,,j)      11                lea\n",
       "10                Fpara       5              fpara\n",
       "11                Fpara       5              fpara\n",
       "12                  s=0       3  Indefinite so far\n",
       "13        Para i=1,n,+1      13               para\n",
       "14           X=x+A(i,i)      10  Indefinite so far\n",
       "15                Fpara       5              fpara\n",
       "16                  x=0       3  Indefinite so far\n",
       "17        Para i=1,n,+1      13               para\n",
       "18        Para j=1,n,+1      13               para\n",
       "19            Si (i==j)       9  Indefinite so far\n",
       "20           x=x+B(i,j)      10  Indefinite so far\n",
       "21                  Fsi       3  Indefinite so far\n",
       "22                Fpara       5              fpara\n",
       "23                Fpara       5              fpara\n",
       "24             Si (x>s)       8  Indefinite so far\n",
       "25     Esc “x es mayor”      16  Indefinite so far\n",
       "26                Esc x       5  Indefinite so far\n",
       "27                 sino       4  Indefinite so far\n",
       "28  Esc “x no es mayor”      19  Indefinite so far\n",
       "29                  Fsi       3  Indefinite so far\n",
       "30                 Pare       4  Indefinite so far"
      ],
      "text/html": "<div>\n<style scoped>\n    .dataframe tbody tr th:only-of-type {\n        vertical-align: middle;\n    }\n\n    .dataframe tbody tr th {\n        vertical-align: top;\n    }\n\n    .dataframe thead th {\n        text-align: right;\n    }\n</style>\n<table border=\"1\" class=\"dataframe\">\n  <thead>\n    <tr style=\"text-align: right;\">\n      <th></th>\n      <th>Line</th>\n      <th>length</th>\n      <th>Type</th>\n    </tr>\n  </thead>\n  <tbody>\n    <tr>\n      <th>0</th>\n      <td>Inicio</td>\n      <td>6</td>\n      <td>inicio</td>\n    </tr>\n    <tr>\n      <th>1</th>\n      <td>Lea n</td>\n      <td>5</td>\n      <td>lea</td>\n    </tr>\n    <tr>\n      <th>2</th>\n      <td>Para i=1,n,+1</td>\n      <td>13</td>\n      <td>para</td>\n    </tr>\n    <tr>\n      <th>3</th>\n      <td>Para j=1,n,+1</td>\n      <td>13</td>\n      <td>para</td>\n    </tr>\n    <tr>\n      <th>4</th>\n      <td>Lea A(i,,j)</td>\n      <td>11</td>\n      <td>lea</td>\n    </tr>\n    <tr>\n      <th>5</th>\n      <td>Fpara</td>\n      <td>5</td>\n      <td>fpara</td>\n    </tr>\n    <tr>\n      <th>6</th>\n      <td>Fpara</td>\n      <td>5</td>\n      <td>fpara</td>\n    </tr>\n    <tr>\n      <th>7</th>\n      <td>Para i=1,n,+1</td>\n      <td>13</td>\n      <td>para</td>\n    </tr>\n    <tr>\n      <th>8</th>\n      <td>Para j=1,n,+1</td>\n      <td>13</td>\n      <td>para</td>\n    </tr>\n    <tr>\n      <th>9</th>\n      <td>Lea B(i,,j)</td>\n      <td>11</td>\n      <td>lea</td>\n    </tr>\n    <tr>\n      <th>10</th>\n      <td>Fpara</td>\n      <td>5</td>\n      <td>fpara</td>\n    </tr>\n    <tr>\n      <th>11</th>\n      <td>Fpara</td>\n      <td>5</td>\n      <td>fpara</td>\n    </tr>\n    <tr>\n      <th>12</th>\n      <td>s=0</td>\n      <td>3</td>\n      <td>Indefinite so far</td>\n    </tr>\n    <tr>\n      <th>13</th>\n      <td>Para i=1,n,+1</td>\n      <td>13</td>\n      <td>para</td>\n    </tr>\n    <tr>\n      <th>14</th>\n      <td>X=x+A(i,i)</td>\n      <td>10</td>\n      <td>Indefinite so far</td>\n    </tr>\n    <tr>\n      <th>15</th>\n      <td>Fpara</td>\n      <td>5</td>\n      <td>fpara</td>\n    </tr>\n    <tr>\n      <th>16</th>\n      <td>x=0</td>\n      <td>3</td>\n      <td>Indefinite so far</td>\n    </tr>\n    <tr>\n      <th>17</th>\n      <td>Para i=1,n,+1</td>\n      <td>13</td>\n      <td>para</td>\n    </tr>\n    <tr>\n      <th>18</th>\n      <td>Para j=1,n,+1</td>\n      <td>13</td>\n      <td>para</td>\n    </tr>\n    <tr>\n      <th>19</th>\n      <td>Si (i==j)</td>\n      <td>9</td>\n      <td>Indefinite so far</td>\n    </tr>\n    <tr>\n      <th>20</th>\n      <td>x=x+B(i,j)</td>\n      <td>10</td>\n      <td>Indefinite so far</td>\n    </tr>\n    <tr>\n      <th>21</th>\n      <td>Fsi</td>\n      <td>3</td>\n      <td>Indefinite so far</td>\n    </tr>\n    <tr>\n      <th>22</th>\n      <td>Fpara</td>\n      <td>5</td>\n      <td>fpara</td>\n    </tr>\n    <tr>\n      <th>23</th>\n      <td>Fpara</td>\n      <td>5</td>\n      <td>fpara</td>\n    </tr>\n    <tr>\n      <th>24</th>\n      <td>Si (x&gt;s)</td>\n      <td>8</td>\n      <td>Indefinite so far</td>\n    </tr>\n    <tr>\n      <th>25</th>\n      <td>Esc “x es mayor”</td>\n      <td>16</td>\n      <td>Indefinite so far</td>\n    </tr>\n    <tr>\n      <th>26</th>\n      <td>Esc x</td>\n      <td>5</td>\n      <td>Indefinite so far</td>\n    </tr>\n    <tr>\n      <th>27</th>\n      <td>sino</td>\n      <td>4</td>\n      <td>Indefinite so far</td>\n    </tr>\n    <tr>\n      <th>28</th>\n      <td>Esc “x no es mayor”</td>\n      <td>19</td>\n      <td>Indefinite so far</td>\n    </tr>\n    <tr>\n      <th>29</th>\n      <td>Fsi</td>\n      <td>3</td>\n      <td>Indefinite so far</td>\n    </tr>\n    <tr>\n      <th>30</th>\n      <td>Pare</td>\n      <td>4</td>\n      <td>Indefinite so far</td>\n    </tr>\n  </tbody>\n</table>\n</div>"
     },
     "metadata": {},
     "execution_count": 32
    }
   ],
   "source": [
    "def get_type(line):\n",
    "    if not line.lower().find('inicio'):\n",
    "        return \"inicio\"\n",
    "    if not line.lower().find('para'):\n",
    "        return \"para\"\n",
    "    if not line.lower().find('lea'):\n",
    "        return \"lea\"\n",
    "    if not line.lower().find('fpara'):\n",
    "        return \"fpara\"\n",
    "    return \"Indefinite so far\"\n",
    "\n",
    "syntax[\"Type\"] = syntax[\"Line\"].map(get_type)\n",
    "syntax.head(len(syntax))"
   ]
  },
  {
   "cell_type": "code",
   "execution_count": null,
   "metadata": {},
   "outputs": [],
   "source": []
  },
  {
   "cell_type": "code",
   "execution_count": null,
   "metadata": {},
   "outputs": [],
   "source": []
  }
 ]
}