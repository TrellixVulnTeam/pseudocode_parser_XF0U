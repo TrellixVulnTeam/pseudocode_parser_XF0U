{
 "metadata": {
  "language_info": {
   "codemirror_mode": {
    "name": "ipython",
    "version": 3
   },
   "file_extension": ".py",
   "mimetype": "text/x-python",
   "name": "python",
   "nbconvert_exporter": "python",
   "pygments_lexer": "ipython3",
   "version": "3.8.3-final"
  },
  "orig_nbformat": 2,
  "kernelspec": {
   "name": "python3",
   "display_name": "Python 3"
  }
 },
 "nbformat": 4,
 "nbformat_minor": 2,
 "cells": [
  {
   "cell_type": "code",
   "execution_count": 76,
   "metadata": {},
   "outputs": [],
   "source": [
    "import sympy as sp\n",
    "from sympy.parsing.sympy_parser import parse_expr\n",
    "import pandas as pd"
   ]
  },
  {
   "cell_type": "code",
   "execution_count": 77,
   "metadata": {},
   "outputs": [],
   "source": [
    "def get_lines(filename):\n",
    "    file = open(filename, 'r+')\n",
    "    lines = file.readlines()\n",
    "    #\n",
    "    lines = map(lambda line : line[:-1],lines)\n",
    "    file.close()\n",
    "    return lines"
   ]
  },
  {
   "cell_type": "code",
   "execution_count": 78,
   "metadata": {},
   "outputs": [],
   "source": [
    "lines = get_lines('./tests/ejercicio1.txt')"
   ]
  },
  {
   "cell_type": "code",
   "execution_count": 79,
   "metadata": {},
   "outputs": [
    {
     "output_type": "execute_result",
     "data": {
      "text/plain": [
       "            line\n",
       "0         Inicio\n",
       "1          Lea n\n",
       "2  Para i=1,n,+1\n",
       "3  Para j=1,n,+1\n",
       "4    Lea A(i,,j)"
      ],
      "text/html": "<div>\n<style scoped>\n    .dataframe tbody tr th:only-of-type {\n        vertical-align: middle;\n    }\n\n    .dataframe tbody tr th {\n        vertical-align: top;\n    }\n\n    .dataframe thead th {\n        text-align: right;\n    }\n</style>\n<table border=\"1\" class=\"dataframe\">\n  <thead>\n    <tr style=\"text-align: right;\">\n      <th></th>\n      <th>line</th>\n    </tr>\n  </thead>\n  <tbody>\n    <tr>\n      <th>0</th>\n      <td>Inicio</td>\n    </tr>\n    <tr>\n      <th>1</th>\n      <td>Lea n</td>\n    </tr>\n    <tr>\n      <th>2</th>\n      <td>Para i=1,n,+1</td>\n    </tr>\n    <tr>\n      <th>3</th>\n      <td>Para j=1,n,+1</td>\n    </tr>\n    <tr>\n      <th>4</th>\n      <td>Lea A(i,,j)</td>\n    </tr>\n  </tbody>\n</table>\n</div>"
     },
     "metadata": {},
     "execution_count": 79
    }
   ],
   "source": [
    "syntax = pd.DataFrame(data=lines, columns=['line'])\n",
    "syntax.head()"
   ]
  },
  {
   "cell_type": "code",
   "execution_count": 80,
   "metadata": {},
   "outputs": [
    {
     "output_type": "execute_result",
     "data": {
      "text/plain": [
       "            line  length\n",
       "0         Inicio       6\n",
       "1          Lea n       5\n",
       "2  Para i=1,n,+1      13\n",
       "3  Para j=1,n,+1      13\n",
       "4    Lea A(i,,j)      11"
      ],
      "text/html": "<div>\n<style scoped>\n    .dataframe tbody tr th:only-of-type {\n        vertical-align: middle;\n    }\n\n    .dataframe tbody tr th {\n        vertical-align: top;\n    }\n\n    .dataframe thead th {\n        text-align: right;\n    }\n</style>\n<table border=\"1\" class=\"dataframe\">\n  <thead>\n    <tr style=\"text-align: right;\">\n      <th></th>\n      <th>line</th>\n      <th>length</th>\n    </tr>\n  </thead>\n  <tbody>\n    <tr>\n      <th>0</th>\n      <td>Inicio</td>\n      <td>6</td>\n    </tr>\n    <tr>\n      <th>1</th>\n      <td>Lea n</td>\n      <td>5</td>\n    </tr>\n    <tr>\n      <th>2</th>\n      <td>Para i=1,n,+1</td>\n      <td>13</td>\n    </tr>\n    <tr>\n      <th>3</th>\n      <td>Para j=1,n,+1</td>\n      <td>13</td>\n    </tr>\n    <tr>\n      <th>4</th>\n      <td>Lea A(i,,j)</td>\n      <td>11</td>\n    </tr>\n  </tbody>\n</table>\n</div>"
     },
     "metadata": {},
     "execution_count": 80
    }
   ],
   "source": [
    "syntax[\"length\"] = syntax[\"line\"].map(lambda line: len(line))\n",
    "syntax.head()"
   ]
  },
  {
   "cell_type": "code",
   "execution_count": 81,
   "metadata": {},
   "outputs": [
    {
     "output_type": "execute_result",
     "data": {
      "text/plain": [
       "                   line  length        type\n",
       "0                Inicio       6      inicio\n",
       "1                 Lea n       5         lea\n",
       "2         Para i=1,n,+1      13        para\n",
       "3         Para j=1,n,+1      13        para\n",
       "4           Lea A(i,,j)      11         lea\n",
       "5                 Fpara       5       fpara\n",
       "6                 Fpara       5       fpara\n",
       "7         Para i=1,n,+1      13        para\n",
       "8         Para j=1,n,+1      13        para\n",
       "9           Lea B(i,,j)      11         lea\n",
       "10                Fpara       5       fpara\n",
       "11                Fpara       5       fpara\n",
       "12                  s=0       3  assignment\n",
       "13        Para i=1,n,+1      13        para\n",
       "14           X=x+A(i,i)      10  assignment\n",
       "15                Fpara       5       fpara\n",
       "16                  x=0       3  assignment\n",
       "17        Para i=1,n,+1      13        para\n",
       "18        Para j=1,n,+1      13        para\n",
       "19            Si (i==j)       9          si\n",
       "20           x=x+B(i,j)      10  assignment\n",
       "21                  Fsi       3         fsi\n",
       "22                Fpara       5       fpara\n",
       "23                Fpara       5       fpara\n",
       "24             Si (x>s)       8          si\n",
       "25     Esc “x es mayor”      16         esc\n",
       "26                Esc x       5         esc\n",
       "27                 sino       4        sino\n",
       "28  Esc “x no es mayor”      19         esc\n",
       "29                  Fsi       3         fsi\n",
       "30                 Pare       4        pare"
      ],
      "text/html": "<div>\n<style scoped>\n    .dataframe tbody tr th:only-of-type {\n        vertical-align: middle;\n    }\n\n    .dataframe tbody tr th {\n        vertical-align: top;\n    }\n\n    .dataframe thead th {\n        text-align: right;\n    }\n</style>\n<table border=\"1\" class=\"dataframe\">\n  <thead>\n    <tr style=\"text-align: right;\">\n      <th></th>\n      <th>line</th>\n      <th>length</th>\n      <th>type</th>\n    </tr>\n  </thead>\n  <tbody>\n    <tr>\n      <th>0</th>\n      <td>Inicio</td>\n      <td>6</td>\n      <td>inicio</td>\n    </tr>\n    <tr>\n      <th>1</th>\n      <td>Lea n</td>\n      <td>5</td>\n      <td>lea</td>\n    </tr>\n    <tr>\n      <th>2</th>\n      <td>Para i=1,n,+1</td>\n      <td>13</td>\n      <td>para</td>\n    </tr>\n    <tr>\n      <th>3</th>\n      <td>Para j=1,n,+1</td>\n      <td>13</td>\n      <td>para</td>\n    </tr>\n    <tr>\n      <th>4</th>\n      <td>Lea A(i,,j)</td>\n      <td>11</td>\n      <td>lea</td>\n    </tr>\n    <tr>\n      <th>5</th>\n      <td>Fpara</td>\n      <td>5</td>\n      <td>fpara</td>\n    </tr>\n    <tr>\n      <th>6</th>\n      <td>Fpara</td>\n      <td>5</td>\n      <td>fpara</td>\n    </tr>\n    <tr>\n      <th>7</th>\n      <td>Para i=1,n,+1</td>\n      <td>13</td>\n      <td>para</td>\n    </tr>\n    <tr>\n      <th>8</th>\n      <td>Para j=1,n,+1</td>\n      <td>13</td>\n      <td>para</td>\n    </tr>\n    <tr>\n      <th>9</th>\n      <td>Lea B(i,,j)</td>\n      <td>11</td>\n      <td>lea</td>\n    </tr>\n    <tr>\n      <th>10</th>\n      <td>Fpara</td>\n      <td>5</td>\n      <td>fpara</td>\n    </tr>\n    <tr>\n      <th>11</th>\n      <td>Fpara</td>\n      <td>5</td>\n      <td>fpara</td>\n    </tr>\n    <tr>\n      <th>12</th>\n      <td>s=0</td>\n      <td>3</td>\n      <td>assignment</td>\n    </tr>\n    <tr>\n      <th>13</th>\n      <td>Para i=1,n,+1</td>\n      <td>13</td>\n      <td>para</td>\n    </tr>\n    <tr>\n      <th>14</th>\n      <td>X=x+A(i,i)</td>\n      <td>10</td>\n      <td>assignment</td>\n    </tr>\n    <tr>\n      <th>15</th>\n      <td>Fpara</td>\n      <td>5</td>\n      <td>fpara</td>\n    </tr>\n    <tr>\n      <th>16</th>\n      <td>x=0</td>\n      <td>3</td>\n      <td>assignment</td>\n    </tr>\n    <tr>\n      <th>17</th>\n      <td>Para i=1,n,+1</td>\n      <td>13</td>\n      <td>para</td>\n    </tr>\n    <tr>\n      <th>18</th>\n      <td>Para j=1,n,+1</td>\n      <td>13</td>\n      <td>para</td>\n    </tr>\n    <tr>\n      <th>19</th>\n      <td>Si (i==j)</td>\n      <td>9</td>\n      <td>si</td>\n    </tr>\n    <tr>\n      <th>20</th>\n      <td>x=x+B(i,j)</td>\n      <td>10</td>\n      <td>assignment</td>\n    </tr>\n    <tr>\n      <th>21</th>\n      <td>Fsi</td>\n      <td>3</td>\n      <td>fsi</td>\n    </tr>\n    <tr>\n      <th>22</th>\n      <td>Fpara</td>\n      <td>5</td>\n      <td>fpara</td>\n    </tr>\n    <tr>\n      <th>23</th>\n      <td>Fpara</td>\n      <td>5</td>\n      <td>fpara</td>\n    </tr>\n    <tr>\n      <th>24</th>\n      <td>Si (x&gt;s)</td>\n      <td>8</td>\n      <td>si</td>\n    </tr>\n    <tr>\n      <th>25</th>\n      <td>Esc “x es mayor”</td>\n      <td>16</td>\n      <td>esc</td>\n    </tr>\n    <tr>\n      <th>26</th>\n      <td>Esc x</td>\n      <td>5</td>\n      <td>esc</td>\n    </tr>\n    <tr>\n      <th>27</th>\n      <td>sino</td>\n      <td>4</td>\n      <td>sino</td>\n    </tr>\n    <tr>\n      <th>28</th>\n      <td>Esc “x no es mayor”</td>\n      <td>19</td>\n      <td>esc</td>\n    </tr>\n    <tr>\n      <th>29</th>\n      <td>Fsi</td>\n      <td>3</td>\n      <td>fsi</td>\n    </tr>\n    <tr>\n      <th>30</th>\n      <td>Pare</td>\n      <td>4</td>\n      <td>pare</td>\n    </tr>\n  </tbody>\n</table>\n</div>"
     },
     "metadata": {},
     "execution_count": 81
    }
   ],
   "source": [
    "def get_type(line):\n",
    "    #If not line.lower().find('x') returns true if x starts at line[0] \n",
    "    if not line.lower().find('inicio'):\n",
    "        return \"inicio\"\n",
    "    if not line.lower().find('pare'):\n",
    "        return \"pare\"\n",
    "    if not line.lower().find('para'):\n",
    "        return \"para\"\n",
    "    if not line.lower().find('lea'):\n",
    "        return \"lea\"\n",
    "    if not line.lower().find('esc'):\n",
    "        return \"esc\"\n",
    "    if not line.lower().find('fpara'):\n",
    "        return \"fpara\"\n",
    "    if not line.lower().find('sino'):\n",
    "        return \"sino\"\n",
    "    if not line.lower().find('si'):\n",
    "        return \"si\"\n",
    "    if not line.lower().find('fsi'):\n",
    "        return \"fsi\"\n",
    "    if line.lower().find('='):\n",
    "        return \"assignment\"\n",
    "    return \"Indefinite so far\"\n",
    "\n",
    "syntax[\"type\"] = syntax[\"line\"].map(get_type)\n",
    "syntax.head(len(syntax))"
   ]
  },
  {
   "cell_type": "code",
   "execution_count": 82,
   "metadata": {},
   "outputs": [],
   "source": [
    "def process_for(line):\n",
    "        raw_data = line[line.index('=')+1:]\n",
    "        split_data = raw_data.split(',')\n",
    "        print(split_data)\n",
    "        lower_bound = parse_expr(split_data[0])\n",
    "        upper_bound = parse_expr(split_data[1])\n",
    "        increment = parse_expr(split_data[2])\n",
    "        return {\n",
    "            'lower_b' : lower_bound,\n",
    "            'upper_b' : upper_bound,\n",
    "            'inc' : increment\n",
    "        }"
   ]
  },
  {
   "cell_type": "code",
   "execution_count": 83,
   "metadata": {},
   "outputs": [
    {
     "output_type": "stream",
     "name": "stdout",
     "text": [
      "['100', 'a+b', '-10']\n"
     ]
    },
    {
     "output_type": "execute_result",
     "data": {
      "text/plain": [
       "{'lower_b': 100, 'upper_b': a + b, 'inc': -10}"
      ]
     },
     "metadata": {},
     "execution_count": 83
    }
   ],
   "source": [
    "test_for_line = 'Para i=100,a+b,-10'\n",
    "process_for(test_for_line)"
   ]
  },
  {
   "cell_type": "code",
   "execution_count": 84,
   "metadata": {},
   "outputs": [],
   "source": [
    "def process_if(line):\n",
    "    comparisons = [pos for pos, char in enumerate(line) if char == '(']\n",
    "    return {\n",
    "        'comparisons' : len(comparisons)\n",
    "    }"
   ]
  },
  {
   "cell_type": "code",
   "execution_count": 85,
   "metadata": {},
   "outputs": [],
   "source": [
    "\n",
    "def new_get_statement_runtime(syntax):\n",
    "    lines_dict_list = lines = syntax.to_dict('records')\n",
    "    order = 0\n",
    "    for index in range(len(lines_dict_list)):\n",
    "        line = lines[index]\n",
    "        # print(line['type'])\n",
    "        line_type = line['type']\n",
    "        if line_type in ('inicio','pare','sino'):\n",
    "            #order does not change\n",
    "            line['runtime'] = 0\n",
    "            # line['data'] = 'Control statement'\n",
    "            line['order'] = order\n",
    "        elif line_type in (\"assignment\",'lea','esc'):\n",
    "            line['runtime'] = 1\n",
    "            # line['data'] = 'Assignment i/o'\n",
    "            line['order'] = order\n",
    "        elif  line_type in ('fsi','fpara'):\n",
    "            order -= 1\n",
    "            line['runtime'] = 0\n",
    "            # line['data'] = 'End of block'\n",
    "            line['order'] = order\n",
    "            \n",
    "        elif line_type is 'para':\n",
    "            line['runtime'] = 'Nan'\n",
    "            line['data'] = process_for(line['line'])\n",
    "            line['order'] = order\n",
    "            order += 1\n",
    "        elif line_type is 'si':\n",
    "            line['runtime'] = 'Nan' #Number of comparisons + instructions inside\n",
    "            line['data'] = process_if(line['line'])\n",
    "            line['order'] = order\n",
    "            order +=1\n",
    "        # print(f'Line : {line}')\n",
    "\n",
    "    \n",
    "    return pd.DataFrame.from_dict(lines)\n",
    "            \n",
    "\n",
    "        \n",
    "\n",
    "\n",
    "\n"
   ]
  },
  {
   "cell_type": "code",
   "execution_count": 86,
   "metadata": {},
   "outputs": [
    {
     "output_type": "stream",
     "name": "stdout",
     "text": [
      "['1', 'n', '+1']\n['1', 'n', '+1']\n['1', 'n', '+1']\n['1', 'n', '+1']\n['1', 'n', '+1']\n['1', 'n', '+1']\n['1', 'n', '+1']\n"
     ]
    },
    {
     "output_type": "execute_result",
     "data": {
      "text/plain": [
       "                   line  length        type runtime  order  \\\n",
       "0                Inicio       6      inicio       0      0   \n",
       "1                 Lea n       5         lea       1      0   \n",
       "2         Para i=1,n,+1      13        para     Nan      0   \n",
       "3         Para j=1,n,+1      13        para     Nan      1   \n",
       "4           Lea A(i,,j)      11         lea       1      2   \n",
       "5                 Fpara       5       fpara       0      1   \n",
       "6                 Fpara       5       fpara       0      0   \n",
       "7         Para i=1,n,+1      13        para     Nan      0   \n",
       "8         Para j=1,n,+1      13        para     Nan      1   \n",
       "9           Lea B(i,,j)      11         lea       1      2   \n",
       "10                Fpara       5       fpara       0      1   \n",
       "11                Fpara       5       fpara       0      0   \n",
       "12                  s=0       3  assignment       1      0   \n",
       "13        Para i=1,n,+1      13        para     Nan      0   \n",
       "14           X=x+A(i,i)      10  assignment       1      1   \n",
       "15                Fpara       5       fpara       0      0   \n",
       "16                  x=0       3  assignment       1      0   \n",
       "17        Para i=1,n,+1      13        para     Nan      0   \n",
       "18        Para j=1,n,+1      13        para     Nan      1   \n",
       "19            Si (i==j)       9          si     Nan      2   \n",
       "20           x=x+B(i,j)      10  assignment       1      3   \n",
       "21                  Fsi       3         fsi       0      2   \n",
       "22                Fpara       5       fpara       0      1   \n",
       "23                Fpara       5       fpara       0      0   \n",
       "24             Si (x>s)       8          si     Nan      0   \n",
       "25     Esc “x es mayor”      16         esc       1      1   \n",
       "26                Esc x       5         esc       1      1   \n",
       "27                 sino       4        sino       0      1   \n",
       "28  Esc “x no es mayor”      19         esc       1      1   \n",
       "29                  Fsi       3         fsi       0      0   \n",
       "30                 Pare       4        pare       0      0   \n",
       "\n",
       "                                      data  \n",
       "0                                      NaN  \n",
       "1                                      NaN  \n",
       "2   {'lower_b': 1, 'upper_b': n, 'inc': 1}  \n",
       "3   {'lower_b': 1, 'upper_b': n, 'inc': 1}  \n",
       "4                                      NaN  \n",
       "5                                      NaN  \n",
       "6                                      NaN  \n",
       "7   {'lower_b': 1, 'upper_b': n, 'inc': 1}  \n",
       "8   {'lower_b': 1, 'upper_b': n, 'inc': 1}  \n",
       "9                                      NaN  \n",
       "10                                     NaN  \n",
       "11                                     NaN  \n",
       "12                                     NaN  \n",
       "13  {'lower_b': 1, 'upper_b': n, 'inc': 1}  \n",
       "14                                     NaN  \n",
       "15                                     NaN  \n",
       "16                                     NaN  \n",
       "17  {'lower_b': 1, 'upper_b': n, 'inc': 1}  \n",
       "18  {'lower_b': 1, 'upper_b': n, 'inc': 1}  \n",
       "19                      {'comparisons': 1}  \n",
       "20                                     NaN  \n",
       "21                                     NaN  \n",
       "22                                     NaN  \n",
       "23                                     NaN  \n",
       "24                      {'comparisons': 1}  \n",
       "25                                     NaN  \n",
       "26                                     NaN  \n",
       "27                                     NaN  \n",
       "28                                     NaN  \n",
       "29                                     NaN  \n",
       "30                                     NaN  "
      ],
      "text/html": "<div>\n<style scoped>\n    .dataframe tbody tr th:only-of-type {\n        vertical-align: middle;\n    }\n\n    .dataframe tbody tr th {\n        vertical-align: top;\n    }\n\n    .dataframe thead th {\n        text-align: right;\n    }\n</style>\n<table border=\"1\" class=\"dataframe\">\n  <thead>\n    <tr style=\"text-align: right;\">\n      <th></th>\n      <th>line</th>\n      <th>length</th>\n      <th>type</th>\n      <th>runtime</th>\n      <th>order</th>\n      <th>data</th>\n    </tr>\n  </thead>\n  <tbody>\n    <tr>\n      <th>0</th>\n      <td>Inicio</td>\n      <td>6</td>\n      <td>inicio</td>\n      <td>0</td>\n      <td>0</td>\n      <td>NaN</td>\n    </tr>\n    <tr>\n      <th>1</th>\n      <td>Lea n</td>\n      <td>5</td>\n      <td>lea</td>\n      <td>1</td>\n      <td>0</td>\n      <td>NaN</td>\n    </tr>\n    <tr>\n      <th>2</th>\n      <td>Para i=1,n,+1</td>\n      <td>13</td>\n      <td>para</td>\n      <td>Nan</td>\n      <td>0</td>\n      <td>{'lower_b': 1, 'upper_b': n, 'inc': 1}</td>\n    </tr>\n    <tr>\n      <th>3</th>\n      <td>Para j=1,n,+1</td>\n      <td>13</td>\n      <td>para</td>\n      <td>Nan</td>\n      <td>1</td>\n      <td>{'lower_b': 1, 'upper_b': n, 'inc': 1}</td>\n    </tr>\n    <tr>\n      <th>4</th>\n      <td>Lea A(i,,j)</td>\n      <td>11</td>\n      <td>lea</td>\n      <td>1</td>\n      <td>2</td>\n      <td>NaN</td>\n    </tr>\n    <tr>\n      <th>5</th>\n      <td>Fpara</td>\n      <td>5</td>\n      <td>fpara</td>\n      <td>0</td>\n      <td>1</td>\n      <td>NaN</td>\n    </tr>\n    <tr>\n      <th>6</th>\n      <td>Fpara</td>\n      <td>5</td>\n      <td>fpara</td>\n      <td>0</td>\n      <td>0</td>\n      <td>NaN</td>\n    </tr>\n    <tr>\n      <th>7</th>\n      <td>Para i=1,n,+1</td>\n      <td>13</td>\n      <td>para</td>\n      <td>Nan</td>\n      <td>0</td>\n      <td>{'lower_b': 1, 'upper_b': n, 'inc': 1}</td>\n    </tr>\n    <tr>\n      <th>8</th>\n      <td>Para j=1,n,+1</td>\n      <td>13</td>\n      <td>para</td>\n      <td>Nan</td>\n      <td>1</td>\n      <td>{'lower_b': 1, 'upper_b': n, 'inc': 1}</td>\n    </tr>\n    <tr>\n      <th>9</th>\n      <td>Lea B(i,,j)</td>\n      <td>11</td>\n      <td>lea</td>\n      <td>1</td>\n      <td>2</td>\n      <td>NaN</td>\n    </tr>\n    <tr>\n      <th>10</th>\n      <td>Fpara</td>\n      <td>5</td>\n      <td>fpara</td>\n      <td>0</td>\n      <td>1</td>\n      <td>NaN</td>\n    </tr>\n    <tr>\n      <th>11</th>\n      <td>Fpara</td>\n      <td>5</td>\n      <td>fpara</td>\n      <td>0</td>\n      <td>0</td>\n      <td>NaN</td>\n    </tr>\n    <tr>\n      <th>12</th>\n      <td>s=0</td>\n      <td>3</td>\n      <td>assignment</td>\n      <td>1</td>\n      <td>0</td>\n      <td>NaN</td>\n    </tr>\n    <tr>\n      <th>13</th>\n      <td>Para i=1,n,+1</td>\n      <td>13</td>\n      <td>para</td>\n      <td>Nan</td>\n      <td>0</td>\n      <td>{'lower_b': 1, 'upper_b': n, 'inc': 1}</td>\n    </tr>\n    <tr>\n      <th>14</th>\n      <td>X=x+A(i,i)</td>\n      <td>10</td>\n      <td>assignment</td>\n      <td>1</td>\n      <td>1</td>\n      <td>NaN</td>\n    </tr>\n    <tr>\n      <th>15</th>\n      <td>Fpara</td>\n      <td>5</td>\n      <td>fpara</td>\n      <td>0</td>\n      <td>0</td>\n      <td>NaN</td>\n    </tr>\n    <tr>\n      <th>16</th>\n      <td>x=0</td>\n      <td>3</td>\n      <td>assignment</td>\n      <td>1</td>\n      <td>0</td>\n      <td>NaN</td>\n    </tr>\n    <tr>\n      <th>17</th>\n      <td>Para i=1,n,+1</td>\n      <td>13</td>\n      <td>para</td>\n      <td>Nan</td>\n      <td>0</td>\n      <td>{'lower_b': 1, 'upper_b': n, 'inc': 1}</td>\n    </tr>\n    <tr>\n      <th>18</th>\n      <td>Para j=1,n,+1</td>\n      <td>13</td>\n      <td>para</td>\n      <td>Nan</td>\n      <td>1</td>\n      <td>{'lower_b': 1, 'upper_b': n, 'inc': 1}</td>\n    </tr>\n    <tr>\n      <th>19</th>\n      <td>Si (i==j)</td>\n      <td>9</td>\n      <td>si</td>\n      <td>Nan</td>\n      <td>2</td>\n      <td>{'comparisons': 1}</td>\n    </tr>\n    <tr>\n      <th>20</th>\n      <td>x=x+B(i,j)</td>\n      <td>10</td>\n      <td>assignment</td>\n      <td>1</td>\n      <td>3</td>\n      <td>NaN</td>\n    </tr>\n    <tr>\n      <th>21</th>\n      <td>Fsi</td>\n      <td>3</td>\n      <td>fsi</td>\n      <td>0</td>\n      <td>2</td>\n      <td>NaN</td>\n    </tr>\n    <tr>\n      <th>22</th>\n      <td>Fpara</td>\n      <td>5</td>\n      <td>fpara</td>\n      <td>0</td>\n      <td>1</td>\n      <td>NaN</td>\n    </tr>\n    <tr>\n      <th>23</th>\n      <td>Fpara</td>\n      <td>5</td>\n      <td>fpara</td>\n      <td>0</td>\n      <td>0</td>\n      <td>NaN</td>\n    </tr>\n    <tr>\n      <th>24</th>\n      <td>Si (x&gt;s)</td>\n      <td>8</td>\n      <td>si</td>\n      <td>Nan</td>\n      <td>0</td>\n      <td>{'comparisons': 1}</td>\n    </tr>\n    <tr>\n      <th>25</th>\n      <td>Esc “x es mayor”</td>\n      <td>16</td>\n      <td>esc</td>\n      <td>1</td>\n      <td>1</td>\n      <td>NaN</td>\n    </tr>\n    <tr>\n      <th>26</th>\n      <td>Esc x</td>\n      <td>5</td>\n      <td>esc</td>\n      <td>1</td>\n      <td>1</td>\n      <td>NaN</td>\n    </tr>\n    <tr>\n      <th>27</th>\n      <td>sino</td>\n      <td>4</td>\n      <td>sino</td>\n      <td>0</td>\n      <td>1</td>\n      <td>NaN</td>\n    </tr>\n    <tr>\n      <th>28</th>\n      <td>Esc “x no es mayor”</td>\n      <td>19</td>\n      <td>esc</td>\n      <td>1</td>\n      <td>1</td>\n      <td>NaN</td>\n    </tr>\n    <tr>\n      <th>29</th>\n      <td>Fsi</td>\n      <td>3</td>\n      <td>fsi</td>\n      <td>0</td>\n      <td>0</td>\n      <td>NaN</td>\n    </tr>\n    <tr>\n      <th>30</th>\n      <td>Pare</td>\n      <td>4</td>\n      <td>pare</td>\n      <td>0</td>\n      <td>0</td>\n      <td>NaN</td>\n    </tr>\n  </tbody>\n</table>\n</div>"
     },
     "metadata": {},
     "execution_count": 86
    }
   ],
   "source": [
    "new_syntax = new_get_statement_runtime(syntax)\n",
    "new_syntax.head(len(new_syntax))"
   ]
  },
  {
   "cell_type": "code",
   "execution_count": 87,
   "metadata": {},
   "outputs": [
    {
     "output_type": "execute_result",
     "data": {
      "text/plain": [
       "{'comparisons': 2}"
      ]
     },
     "metadata": {},
     "execution_count": 87
    }
   ],
   "source": [
    "new_line = 'Si (i==j) y (j==1)'\n",
    "process_if(new_line)"
   ]
  },
  {
   "cell_type": "code",
   "execution_count": 88,
   "metadata": {},
   "outputs": [],
   "source": [
    "def get_if_block_runtime(block_lines):\n",
    "    runtime = 0\n",
    "    for line in block_lines:\n",
    "        runtime += line['runtime']\n",
    "    return runtime"
   ]
  },
  {
   "cell_type": "code",
   "execution_count": 89,
   "metadata": {},
   "outputs": [],
   "source": [
    "def get_if_blocks_runtime(syntax):\n",
    "    lines_dict_list = lines = syntax.to_dict('records')\n",
    "    if_indices = [pos for pos, line in enumerate(lines) if line['type'] is 'si']\n",
    "    else_indices = [pos for pos, line in enumerate(lines) if line['type'] is 'sino']\n",
    "    end_if_indices = [pos for pos, line in enumerate(lines) if line['type'] is 'fsi']\n",
    "    # done = False\n",
    "\n",
    "    #Let's begin by processing the ifs statements\n",
    "    if_statements = []\n",
    "    for x, if_index in enumerate(if_indices):\n",
    "        #Find closing endif\n",
    "        end_if_index = end_if_indices[x]\n",
    "        #Is there an else?\n",
    "        else_index = False\n",
    "        for line_index in range(if_index,end_if_index):\n",
    "            if  line_index in else_indices:\n",
    "                else_index = line_index\n",
    "                break\n",
    "        # print((if_index,else_index,end_if_index))\n",
    "        comparisons = lines[if_index]['data']['comparisons']\n",
    "        if_runtime = comparisons\n",
    "        if else_index:\n",
    "            block_a = lines[if_index+1:else_index]\n",
    "            block_b = lines[else_index+1: end_if_index]\n",
    "            bloc_a_runtime = get_if_block_runtime(block_a)\n",
    "            bloc_b_runtime = get_if_block_runtime(block_b)\n",
    "            if_runtime += max(bloc_a_runtime,bloc_b_runtime)\n",
    "        else:\n",
    "            block = lines[if_index+1:end_if_index]\n",
    "            bloc_runtime = get_if_block_runtime(block)\n",
    "            if_runtime += bloc_runtime\n",
    "        print((if_index,else_index,end_if_index,if_runtime))\n",
    "        lines[if_index]['runtime'] = if_runtime\n",
    "    return pd.DataFrame.from_dict(lines)\n",
    "\n",
    "\n",
    "            \n",
    "\n",
    "    # print('para',for_indices)\n",
    "    # print('fpara',end_for_indices)\n",
    "    # print('si',if_indices)\n",
    "    # print('sino',else_indices)\n",
    "    # print('fsi',end_if_indices)\n",
    "\n"
   ]
  },
  {
   "cell_type": "code",
   "execution_count": 90,
   "metadata": {},
   "outputs": [
    {
     "output_type": "stream",
     "name": "stdout",
     "text": [
      "(19, False, 21, 2)\n(24, 27, 29, 3)\n"
     ]
    },
    {
     "output_type": "execute_result",
     "data": {
      "text/plain": [
       "                   line  length        type runtime  order  \\\n",
       "0                Inicio       6      inicio       0      0   \n",
       "1                 Lea n       5         lea       1      0   \n",
       "2         Para i=1,n,+1      13        para     Nan      0   \n",
       "3         Para j=1,n,+1      13        para     Nan      1   \n",
       "4           Lea A(i,,j)      11         lea       1      2   \n",
       "5                 Fpara       5       fpara       0      1   \n",
       "6                 Fpara       5       fpara       0      0   \n",
       "7         Para i=1,n,+1      13        para     Nan      0   \n",
       "8         Para j=1,n,+1      13        para     Nan      1   \n",
       "9           Lea B(i,,j)      11         lea       1      2   \n",
       "10                Fpara       5       fpara       0      1   \n",
       "11                Fpara       5       fpara       0      0   \n",
       "12                  s=0       3  assignment       1      0   \n",
       "13        Para i=1,n,+1      13        para     Nan      0   \n",
       "14           X=x+A(i,i)      10  assignment       1      1   \n",
       "15                Fpara       5       fpara       0      0   \n",
       "16                  x=0       3  assignment       1      0   \n",
       "17        Para i=1,n,+1      13        para     Nan      0   \n",
       "18        Para j=1,n,+1      13        para     Nan      1   \n",
       "19            Si (i==j)       9          si       2      2   \n",
       "20           x=x+B(i,j)      10  assignment       1      3   \n",
       "21                  Fsi       3         fsi       0      2   \n",
       "22                Fpara       5       fpara       0      1   \n",
       "23                Fpara       5       fpara       0      0   \n",
       "24             Si (x>s)       8          si       3      0   \n",
       "25     Esc “x es mayor”      16         esc       1      1   \n",
       "26                Esc x       5         esc       1      1   \n",
       "27                 sino       4        sino       0      1   \n",
       "28  Esc “x no es mayor”      19         esc       1      1   \n",
       "29                  Fsi       3         fsi       0      0   \n",
       "30                 Pare       4        pare       0      0   \n",
       "\n",
       "                                      data  \n",
       "0                                      NaN  \n",
       "1                                      NaN  \n",
       "2   {'lower_b': 1, 'upper_b': n, 'inc': 1}  \n",
       "3   {'lower_b': 1, 'upper_b': n, 'inc': 1}  \n",
       "4                                      NaN  \n",
       "5                                      NaN  \n",
       "6                                      NaN  \n",
       "7   {'lower_b': 1, 'upper_b': n, 'inc': 1}  \n",
       "8   {'lower_b': 1, 'upper_b': n, 'inc': 1}  \n",
       "9                                      NaN  \n",
       "10                                     NaN  \n",
       "11                                     NaN  \n",
       "12                                     NaN  \n",
       "13  {'lower_b': 1, 'upper_b': n, 'inc': 1}  \n",
       "14                                     NaN  \n",
       "15                                     NaN  \n",
       "16                                     NaN  \n",
       "17  {'lower_b': 1, 'upper_b': n, 'inc': 1}  \n",
       "18  {'lower_b': 1, 'upper_b': n, 'inc': 1}  \n",
       "19                      {'comparisons': 1}  \n",
       "20                                     NaN  \n",
       "21                                     NaN  \n",
       "22                                     NaN  \n",
       "23                                     NaN  \n",
       "24                      {'comparisons': 1}  \n",
       "25                                     NaN  \n",
       "26                                     NaN  \n",
       "27                                     NaN  \n",
       "28                                     NaN  \n",
       "29                                     NaN  \n",
       "30                                     NaN  "
      ],
      "text/html": "<div>\n<style scoped>\n    .dataframe tbody tr th:only-of-type {\n        vertical-align: middle;\n    }\n\n    .dataframe tbody tr th {\n        vertical-align: top;\n    }\n\n    .dataframe thead th {\n        text-align: right;\n    }\n</style>\n<table border=\"1\" class=\"dataframe\">\n  <thead>\n    <tr style=\"text-align: right;\">\n      <th></th>\n      <th>line</th>\n      <th>length</th>\n      <th>type</th>\n      <th>runtime</th>\n      <th>order</th>\n      <th>data</th>\n    </tr>\n  </thead>\n  <tbody>\n    <tr>\n      <th>0</th>\n      <td>Inicio</td>\n      <td>6</td>\n      <td>inicio</td>\n      <td>0</td>\n      <td>0</td>\n      <td>NaN</td>\n    </tr>\n    <tr>\n      <th>1</th>\n      <td>Lea n</td>\n      <td>5</td>\n      <td>lea</td>\n      <td>1</td>\n      <td>0</td>\n      <td>NaN</td>\n    </tr>\n    <tr>\n      <th>2</th>\n      <td>Para i=1,n,+1</td>\n      <td>13</td>\n      <td>para</td>\n      <td>Nan</td>\n      <td>0</td>\n      <td>{'lower_b': 1, 'upper_b': n, 'inc': 1}</td>\n    </tr>\n    <tr>\n      <th>3</th>\n      <td>Para j=1,n,+1</td>\n      <td>13</td>\n      <td>para</td>\n      <td>Nan</td>\n      <td>1</td>\n      <td>{'lower_b': 1, 'upper_b': n, 'inc': 1}</td>\n    </tr>\n    <tr>\n      <th>4</th>\n      <td>Lea A(i,,j)</td>\n      <td>11</td>\n      <td>lea</td>\n      <td>1</td>\n      <td>2</td>\n      <td>NaN</td>\n    </tr>\n    <tr>\n      <th>5</th>\n      <td>Fpara</td>\n      <td>5</td>\n      <td>fpara</td>\n      <td>0</td>\n      <td>1</td>\n      <td>NaN</td>\n    </tr>\n    <tr>\n      <th>6</th>\n      <td>Fpara</td>\n      <td>5</td>\n      <td>fpara</td>\n      <td>0</td>\n      <td>0</td>\n      <td>NaN</td>\n    </tr>\n    <tr>\n      <th>7</th>\n      <td>Para i=1,n,+1</td>\n      <td>13</td>\n      <td>para</td>\n      <td>Nan</td>\n      <td>0</td>\n      <td>{'lower_b': 1, 'upper_b': n, 'inc': 1}</td>\n    </tr>\n    <tr>\n      <th>8</th>\n      <td>Para j=1,n,+1</td>\n      <td>13</td>\n      <td>para</td>\n      <td>Nan</td>\n      <td>1</td>\n      <td>{'lower_b': 1, 'upper_b': n, 'inc': 1}</td>\n    </tr>\n    <tr>\n      <th>9</th>\n      <td>Lea B(i,,j)</td>\n      <td>11</td>\n      <td>lea</td>\n      <td>1</td>\n      <td>2</td>\n      <td>NaN</td>\n    </tr>\n    <tr>\n      <th>10</th>\n      <td>Fpara</td>\n      <td>5</td>\n      <td>fpara</td>\n      <td>0</td>\n      <td>1</td>\n      <td>NaN</td>\n    </tr>\n    <tr>\n      <th>11</th>\n      <td>Fpara</td>\n      <td>5</td>\n      <td>fpara</td>\n      <td>0</td>\n      <td>0</td>\n      <td>NaN</td>\n    </tr>\n    <tr>\n      <th>12</th>\n      <td>s=0</td>\n      <td>3</td>\n      <td>assignment</td>\n      <td>1</td>\n      <td>0</td>\n      <td>NaN</td>\n    </tr>\n    <tr>\n      <th>13</th>\n      <td>Para i=1,n,+1</td>\n      <td>13</td>\n      <td>para</td>\n      <td>Nan</td>\n      <td>0</td>\n      <td>{'lower_b': 1, 'upper_b': n, 'inc': 1}</td>\n    </tr>\n    <tr>\n      <th>14</th>\n      <td>X=x+A(i,i)</td>\n      <td>10</td>\n      <td>assignment</td>\n      <td>1</td>\n      <td>1</td>\n      <td>NaN</td>\n    </tr>\n    <tr>\n      <th>15</th>\n      <td>Fpara</td>\n      <td>5</td>\n      <td>fpara</td>\n      <td>0</td>\n      <td>0</td>\n      <td>NaN</td>\n    </tr>\n    <tr>\n      <th>16</th>\n      <td>x=0</td>\n      <td>3</td>\n      <td>assignment</td>\n      <td>1</td>\n      <td>0</td>\n      <td>NaN</td>\n    </tr>\n    <tr>\n      <th>17</th>\n      <td>Para i=1,n,+1</td>\n      <td>13</td>\n      <td>para</td>\n      <td>Nan</td>\n      <td>0</td>\n      <td>{'lower_b': 1, 'upper_b': n, 'inc': 1}</td>\n    </tr>\n    <tr>\n      <th>18</th>\n      <td>Para j=1,n,+1</td>\n      <td>13</td>\n      <td>para</td>\n      <td>Nan</td>\n      <td>1</td>\n      <td>{'lower_b': 1, 'upper_b': n, 'inc': 1}</td>\n    </tr>\n    <tr>\n      <th>19</th>\n      <td>Si (i==j)</td>\n      <td>9</td>\n      <td>si</td>\n      <td>2</td>\n      <td>2</td>\n      <td>{'comparisons': 1}</td>\n    </tr>\n    <tr>\n      <th>20</th>\n      <td>x=x+B(i,j)</td>\n      <td>10</td>\n      <td>assignment</td>\n      <td>1</td>\n      <td>3</td>\n      <td>NaN</td>\n    </tr>\n    <tr>\n      <th>21</th>\n      <td>Fsi</td>\n      <td>3</td>\n      <td>fsi</td>\n      <td>0</td>\n      <td>2</td>\n      <td>NaN</td>\n    </tr>\n    <tr>\n      <th>22</th>\n      <td>Fpara</td>\n      <td>5</td>\n      <td>fpara</td>\n      <td>0</td>\n      <td>1</td>\n      <td>NaN</td>\n    </tr>\n    <tr>\n      <th>23</th>\n      <td>Fpara</td>\n      <td>5</td>\n      <td>fpara</td>\n      <td>0</td>\n      <td>0</td>\n      <td>NaN</td>\n    </tr>\n    <tr>\n      <th>24</th>\n      <td>Si (x&gt;s)</td>\n      <td>8</td>\n      <td>si</td>\n      <td>3</td>\n      <td>0</td>\n      <td>{'comparisons': 1}</td>\n    </tr>\n    <tr>\n      <th>25</th>\n      <td>Esc “x es mayor”</td>\n      <td>16</td>\n      <td>esc</td>\n      <td>1</td>\n      <td>1</td>\n      <td>NaN</td>\n    </tr>\n    <tr>\n      <th>26</th>\n      <td>Esc x</td>\n      <td>5</td>\n      <td>esc</td>\n      <td>1</td>\n      <td>1</td>\n      <td>NaN</td>\n    </tr>\n    <tr>\n      <th>27</th>\n      <td>sino</td>\n      <td>4</td>\n      <td>sino</td>\n      <td>0</td>\n      <td>1</td>\n      <td>NaN</td>\n    </tr>\n    <tr>\n      <th>28</th>\n      <td>Esc “x no es mayor”</td>\n      <td>19</td>\n      <td>esc</td>\n      <td>1</td>\n      <td>1</td>\n      <td>NaN</td>\n    </tr>\n    <tr>\n      <th>29</th>\n      <td>Fsi</td>\n      <td>3</td>\n      <td>fsi</td>\n      <td>0</td>\n      <td>0</td>\n      <td>NaN</td>\n    </tr>\n    <tr>\n      <th>30</th>\n      <td>Pare</td>\n      <td>4</td>\n      <td>pare</td>\n      <td>0</td>\n      <td>0</td>\n      <td>NaN</td>\n    </tr>\n  </tbody>\n</table>\n</div>"
     },
     "metadata": {},
     "execution_count": 90
    }
   ],
   "source": [
    "syntax_with_ifs = get_if_blocks_runtime(new_syntax)\n",
    "syntax_with_ifs.head(len(syntax_with_ifs))"
   ]
  },
  {
   "cell_type": "code",
   "execution_count": 91,
   "metadata": {},
   "outputs": [],
   "source": [
    "# orders = []\n",
    "# for line in lines:\n",
    "#     orders.append(line['order'])\n",
    "# max_order = max(orders)\n",
    "# if max_order is 3:\n",
    "#There exists at least a combination of two nested loops with an if\n",
    "# for_indices = [pos for pos, line in enumerate(lines) if line['type'] is 'para']\n",
    "# end_for_indices = [pos for pos, line in enumerate(lines) if line['type'] is 'fpara']"
   ]
  },
  {
   "cell_type": "code",
   "execution_count": 92,
   "metadata": {},
   "outputs": [],
   "source": [
    "def for_runtime_formula(for_data,content_runtime):\n",
    "    lower_bound = for_data['lower_b']\n",
    "    upper_bound = for_data['upper_b']\n",
    "    try:\n",
    "        lower_bound = int(lower_bound)\n",
    "    except TypeError:\n",
    "        lower_bound = lower_bound\n",
    "    try: \n",
    "        upper_bound = int(upper_bound)\n",
    "    except TypeError:\n",
    "        upper_bound = upper_bound\n",
    "\n",
    "    increment = parse_expr(str(for_data['inc']))\n",
    "    ceil = sp.Function('ceil')\n",
    "    iterations = (ceil((upper_bound-lower_bound+1)/increment)*(content_runtime +2)) + 2\n",
    "    return iterations "
   ]
  },
  {
   "cell_type": "code",
   "execution_count": 93,
   "metadata": {},
   "outputs": [
    {
     "output_type": "execute_result",
     "data": {
      "text/plain": [
       "8"
      ]
     },
     "metadata": {},
     "execution_count": 93
    }
   ],
   "source": [
    "int(parse_expr('8'))"
   ]
  },
  {
   "cell_type": "code",
   "execution_count": 94,
   "metadata": {},
   "outputs": [
    {
     "output_type": "execute_result",
     "data": {
      "text/plain": [
       "n + 1"
      ],
      "text/latex": "$\\displaystyle n + 1$"
     },
     "metadata": {},
     "execution_count": 94
    }
   ],
   "source": [
    "lower_bound = parse_expr('n-1')\n",
    "upper_bound = parse_expr('8')\n",
    "try:\n",
    "    lb = int(lower_bound)\n",
    "except TypeError:\n",
    "    lb = lower_bound\n",
    "lb + 2\n",
    "\n"
   ]
  },
  {
   "cell_type": "code",
   "execution_count": 95,
   "metadata": {},
   "outputs": [],
   "source": [
    "def get_for_blocks_runtime(syntax):\n",
    "    lines_dict_list = lines = syntax.to_dict('records')\n",
    "    for_indices = [pos for pos, line in enumerate(lines) if line['type'] is 'para']\n",
    "    print('for_indices',for_indices)\n",
    "    endfor_indices = [pos for pos,line in enumerate(lines) if line['type'] is 'fpara']\n",
    "    print('endfor_indices',endfor_indices)\n",
    "    #get for blocks and their orders\n",
    "    block_orders = []\n",
    "    for x ,for_index in enumerate(for_indices):\n",
    "        if x < len(for_indices) -1 :\n",
    "            next_end_for = endfor_indices[x]\n",
    "            next_for = for_indices[x+1]\n",
    "            if next_for < next_end_for:\n",
    "                block_orders.append((for_index,0))\n",
    "            else:\n",
    "                block_orders.append((for_index,1))\n",
    "        else:\n",
    "            block_orders.append((for_index,1))\n",
    "    # print(block_orders)\n",
    "\n",
    "    #get inner for runtime\n",
    "    for for_index in [bloc_order[0] for bloc_order in block_orders if bloc_order[1] is 1]:\n",
    "        # print(for_index)\n",
    "        for end_for in endfor_indices:\n",
    "            if end_for > for_index:\n",
    "                break\n",
    "        for_order = lines[for_index]['order']\n",
    "        instruction_order = for_order + 1\n",
    "        inner_instructions = lines[for_index+1:end_for]\n",
    "        content_runtime = 0 #placeholder\n",
    "        for line in inner_instructions:\n",
    "            if(line['order'] is instruction_order):\n",
    "                content_runtime+= line['runtime']\n",
    "        for_runtime = for_runtime_formula(lines[for_index]['data'],content_runtime)\n",
    "        lines[for_index]['runtime'] = for_runtime\n",
    "    \n",
    "\n",
    "    #get outer for runtimes\n",
    "    for for_index in [bloc_order[0] for bloc_order in block_orders if bloc_order[1] is 0]:\n",
    "        for x, end_for in enumerate(endfor_indices):\n",
    "            if lines[end_for]['order'] == lines[for_index]['order'] and end_for >for_index:\n",
    "                break\n",
    "        for_order = lines[for_index]['order']\n",
    "        instruction_order = for_order + 1\n",
    "        inner_instructions = lines[for_index+1:end_for]\n",
    "        content_runtime = \"\" #placeholder\n",
    "        for line in inner_instructions:\n",
    "            if(line['order'] is instruction_order):\n",
    "                content_runtime += '+'+str(line['runtime'])\n",
    "        for_runtime =for_runtime_formula(lines[for_index]['data'],parse_expr(str(content_runtime)))\n",
    "        lines[for_index]['runtime'] = for_runtime \n",
    "    return pd.DataFrame.from_dict(lines)\n",
    "        \n",
    "\n",
    "\n",
    "            "
   ]
  },
  {
   "cell_type": "code",
   "execution_count": 96,
   "metadata": {},
   "outputs": [
    {
     "output_type": "stream",
     "name": "stdout",
     "text": [
      "for_indices [2, 3, 7, 8, 13, 17, 18]\nendfor_indices [5, 6, 10, 11, 15, 22, 23]\n"
     ]
    },
    {
     "output_type": "execute_result",
     "data": {
      "text/plain": [
       "                   line  length        type                      runtime  \\\n",
       "0                Inicio       6      inicio                            0   \n",
       "1                 Lea n       5         lea                            1   \n",
       "2         Para i=1,n,+1      13        para  (3*ceil(n) + 4)*ceil(n) + 2   \n",
       "3         Para j=1,n,+1      13        para                3*ceil(n) + 2   \n",
       "4           Lea A(i,,j)      11         lea                            1   \n",
       "5                 Fpara       5       fpara                            0   \n",
       "6                 Fpara       5       fpara                            0   \n",
       "7         Para i=1,n,+1      13        para  (3*ceil(n) + 4)*ceil(n) + 2   \n",
       "8         Para j=1,n,+1      13        para                3*ceil(n) + 2   \n",
       "9           Lea B(i,,j)      11         lea                            1   \n",
       "10                Fpara       5       fpara                            0   \n",
       "11                Fpara       5       fpara                            0   \n",
       "12                  s=0       3  assignment                            1   \n",
       "13        Para i=1,n,+1      13        para                3*ceil(n) + 2   \n",
       "14           X=x+A(i,i)      10  assignment                            1   \n",
       "15                Fpara       5       fpara                            0   \n",
       "16                  x=0       3  assignment                            1   \n",
       "17        Para i=1,n,+1      13        para  (4*ceil(n) + 4)*ceil(n) + 2   \n",
       "18        Para j=1,n,+1      13        para                4*ceil(n) + 2   \n",
       "19            Si (i==j)       9          si                            2   \n",
       "20           x=x+B(i,j)      10  assignment                            1   \n",
       "21                  Fsi       3         fsi                            0   \n",
       "22                Fpara       5       fpara                            0   \n",
       "23                Fpara       5       fpara                            0   \n",
       "24             Si (x>s)       8          si                            3   \n",
       "25     Esc “x es mayor”      16         esc                            1   \n",
       "26                Esc x       5         esc                            1   \n",
       "27                 sino       4        sino                            0   \n",
       "28  Esc “x no es mayor”      19         esc                            1   \n",
       "29                  Fsi       3         fsi                            0   \n",
       "30                 Pare       4        pare                            0   \n",
       "\n",
       "    order                                    data  \n",
       "0       0                                     NaN  \n",
       "1       0                                     NaN  \n",
       "2       0  {'lower_b': 1, 'upper_b': n, 'inc': 1}  \n",
       "3       1  {'lower_b': 1, 'upper_b': n, 'inc': 1}  \n",
       "4       2                                     NaN  \n",
       "5       1                                     NaN  \n",
       "6       0                                     NaN  \n",
       "7       0  {'lower_b': 1, 'upper_b': n, 'inc': 1}  \n",
       "8       1  {'lower_b': 1, 'upper_b': n, 'inc': 1}  \n",
       "9       2                                     NaN  \n",
       "10      1                                     NaN  \n",
       "11      0                                     NaN  \n",
       "12      0                                     NaN  \n",
       "13      0  {'lower_b': 1, 'upper_b': n, 'inc': 1}  \n",
       "14      1                                     NaN  \n",
       "15      0                                     NaN  \n",
       "16      0                                     NaN  \n",
       "17      0  {'lower_b': 1, 'upper_b': n, 'inc': 1}  \n",
       "18      1  {'lower_b': 1, 'upper_b': n, 'inc': 1}  \n",
       "19      2                      {'comparisons': 1}  \n",
       "20      3                                     NaN  \n",
       "21      2                                     NaN  \n",
       "22      1                                     NaN  \n",
       "23      0                                     NaN  \n",
       "24      0                      {'comparisons': 1}  \n",
       "25      1                                     NaN  \n",
       "26      1                                     NaN  \n",
       "27      1                                     NaN  \n",
       "28      1                                     NaN  \n",
       "29      0                                     NaN  \n",
       "30      0                                     NaN  "
      ],
      "text/html": "<div>\n<style scoped>\n    .dataframe tbody tr th:only-of-type {\n        vertical-align: middle;\n    }\n\n    .dataframe tbody tr th {\n        vertical-align: top;\n    }\n\n    .dataframe thead th {\n        text-align: right;\n    }\n</style>\n<table border=\"1\" class=\"dataframe\">\n  <thead>\n    <tr style=\"text-align: right;\">\n      <th></th>\n      <th>line</th>\n      <th>length</th>\n      <th>type</th>\n      <th>runtime</th>\n      <th>order</th>\n      <th>data</th>\n    </tr>\n  </thead>\n  <tbody>\n    <tr>\n      <th>0</th>\n      <td>Inicio</td>\n      <td>6</td>\n      <td>inicio</td>\n      <td>0</td>\n      <td>0</td>\n      <td>NaN</td>\n    </tr>\n    <tr>\n      <th>1</th>\n      <td>Lea n</td>\n      <td>5</td>\n      <td>lea</td>\n      <td>1</td>\n      <td>0</td>\n      <td>NaN</td>\n    </tr>\n    <tr>\n      <th>2</th>\n      <td>Para i=1,n,+1</td>\n      <td>13</td>\n      <td>para</td>\n      <td>(3*ceil(n) + 4)*ceil(n) + 2</td>\n      <td>0</td>\n      <td>{'lower_b': 1, 'upper_b': n, 'inc': 1}</td>\n    </tr>\n    <tr>\n      <th>3</th>\n      <td>Para j=1,n,+1</td>\n      <td>13</td>\n      <td>para</td>\n      <td>3*ceil(n) + 2</td>\n      <td>1</td>\n      <td>{'lower_b': 1, 'upper_b': n, 'inc': 1}</td>\n    </tr>\n    <tr>\n      <th>4</th>\n      <td>Lea A(i,,j)</td>\n      <td>11</td>\n      <td>lea</td>\n      <td>1</td>\n      <td>2</td>\n      <td>NaN</td>\n    </tr>\n    <tr>\n      <th>5</th>\n      <td>Fpara</td>\n      <td>5</td>\n      <td>fpara</td>\n      <td>0</td>\n      <td>1</td>\n      <td>NaN</td>\n    </tr>\n    <tr>\n      <th>6</th>\n      <td>Fpara</td>\n      <td>5</td>\n      <td>fpara</td>\n      <td>0</td>\n      <td>0</td>\n      <td>NaN</td>\n    </tr>\n    <tr>\n      <th>7</th>\n      <td>Para i=1,n,+1</td>\n      <td>13</td>\n      <td>para</td>\n      <td>(3*ceil(n) + 4)*ceil(n) + 2</td>\n      <td>0</td>\n      <td>{'lower_b': 1, 'upper_b': n, 'inc': 1}</td>\n    </tr>\n    <tr>\n      <th>8</th>\n      <td>Para j=1,n,+1</td>\n      <td>13</td>\n      <td>para</td>\n      <td>3*ceil(n) + 2</td>\n      <td>1</td>\n      <td>{'lower_b': 1, 'upper_b': n, 'inc': 1}</td>\n    </tr>\n    <tr>\n      <th>9</th>\n      <td>Lea B(i,,j)</td>\n      <td>11</td>\n      <td>lea</td>\n      <td>1</td>\n      <td>2</td>\n      <td>NaN</td>\n    </tr>\n    <tr>\n      <th>10</th>\n      <td>Fpara</td>\n      <td>5</td>\n      <td>fpara</td>\n      <td>0</td>\n      <td>1</td>\n      <td>NaN</td>\n    </tr>\n    <tr>\n      <th>11</th>\n      <td>Fpara</td>\n      <td>5</td>\n      <td>fpara</td>\n      <td>0</td>\n      <td>0</td>\n      <td>NaN</td>\n    </tr>\n    <tr>\n      <th>12</th>\n      <td>s=0</td>\n      <td>3</td>\n      <td>assignment</td>\n      <td>1</td>\n      <td>0</td>\n      <td>NaN</td>\n    </tr>\n    <tr>\n      <th>13</th>\n      <td>Para i=1,n,+1</td>\n      <td>13</td>\n      <td>para</td>\n      <td>3*ceil(n) + 2</td>\n      <td>0</td>\n      <td>{'lower_b': 1, 'upper_b': n, 'inc': 1}</td>\n    </tr>\n    <tr>\n      <th>14</th>\n      <td>X=x+A(i,i)</td>\n      <td>10</td>\n      <td>assignment</td>\n      <td>1</td>\n      <td>1</td>\n      <td>NaN</td>\n    </tr>\n    <tr>\n      <th>15</th>\n      <td>Fpara</td>\n      <td>5</td>\n      <td>fpara</td>\n      <td>0</td>\n      <td>0</td>\n      <td>NaN</td>\n    </tr>\n    <tr>\n      <th>16</th>\n      <td>x=0</td>\n      <td>3</td>\n      <td>assignment</td>\n      <td>1</td>\n      <td>0</td>\n      <td>NaN</td>\n    </tr>\n    <tr>\n      <th>17</th>\n      <td>Para i=1,n,+1</td>\n      <td>13</td>\n      <td>para</td>\n      <td>(4*ceil(n) + 4)*ceil(n) + 2</td>\n      <td>0</td>\n      <td>{'lower_b': 1, 'upper_b': n, 'inc': 1}</td>\n    </tr>\n    <tr>\n      <th>18</th>\n      <td>Para j=1,n,+1</td>\n      <td>13</td>\n      <td>para</td>\n      <td>4*ceil(n) + 2</td>\n      <td>1</td>\n      <td>{'lower_b': 1, 'upper_b': n, 'inc': 1}</td>\n    </tr>\n    <tr>\n      <th>19</th>\n      <td>Si (i==j)</td>\n      <td>9</td>\n      <td>si</td>\n      <td>2</td>\n      <td>2</td>\n      <td>{'comparisons': 1}</td>\n    </tr>\n    <tr>\n      <th>20</th>\n      <td>x=x+B(i,j)</td>\n      <td>10</td>\n      <td>assignment</td>\n      <td>1</td>\n      <td>3</td>\n      <td>NaN</td>\n    </tr>\n    <tr>\n      <th>21</th>\n      <td>Fsi</td>\n      <td>3</td>\n      <td>fsi</td>\n      <td>0</td>\n      <td>2</td>\n      <td>NaN</td>\n    </tr>\n    <tr>\n      <th>22</th>\n      <td>Fpara</td>\n      <td>5</td>\n      <td>fpara</td>\n      <td>0</td>\n      <td>1</td>\n      <td>NaN</td>\n    </tr>\n    <tr>\n      <th>23</th>\n      <td>Fpara</td>\n      <td>5</td>\n      <td>fpara</td>\n      <td>0</td>\n      <td>0</td>\n      <td>NaN</td>\n    </tr>\n    <tr>\n      <th>24</th>\n      <td>Si (x&gt;s)</td>\n      <td>8</td>\n      <td>si</td>\n      <td>3</td>\n      <td>0</td>\n      <td>{'comparisons': 1}</td>\n    </tr>\n    <tr>\n      <th>25</th>\n      <td>Esc “x es mayor”</td>\n      <td>16</td>\n      <td>esc</td>\n      <td>1</td>\n      <td>1</td>\n      <td>NaN</td>\n    </tr>\n    <tr>\n      <th>26</th>\n      <td>Esc x</td>\n      <td>5</td>\n      <td>esc</td>\n      <td>1</td>\n      <td>1</td>\n      <td>NaN</td>\n    </tr>\n    <tr>\n      <th>27</th>\n      <td>sino</td>\n      <td>4</td>\n      <td>sino</td>\n      <td>0</td>\n      <td>1</td>\n      <td>NaN</td>\n    </tr>\n    <tr>\n      <th>28</th>\n      <td>Esc “x no es mayor”</td>\n      <td>19</td>\n      <td>esc</td>\n      <td>1</td>\n      <td>1</td>\n      <td>NaN</td>\n    </tr>\n    <tr>\n      <th>29</th>\n      <td>Fsi</td>\n      <td>3</td>\n      <td>fsi</td>\n      <td>0</td>\n      <td>0</td>\n      <td>NaN</td>\n    </tr>\n    <tr>\n      <th>30</th>\n      <td>Pare</td>\n      <td>4</td>\n      <td>pare</td>\n      <td>0</td>\n      <td>0</td>\n      <td>NaN</td>\n    </tr>\n  </tbody>\n</table>\n</div>"
     },
     "metadata": {},
     "execution_count": 96
    }
   ],
   "source": [
    "syntax_complete = get_for_blocks_runtime(syntax_with_ifs)\n",
    "syntax_complete.head(len(syntax_complete))"
   ]
  },
  {
   "cell_type": "code",
   "execution_count": 97,
   "metadata": {},
   "outputs": [
    {
     "output_type": "execute_result",
     "data": {
      "text/plain": [
       "4*ceil(n) + 2"
      ],
      "text/latex": "$\\displaystyle 4 \\operatorname{ceil}{\\left(n \\right)} + 2$"
     },
     "metadata": {},
     "execution_count": 97
    }
   ],
   "source": [
    "test_for_data = {'lower_b': parse_expr('1'), 'upper_b': parse_expr('n'), 'inc': parse_expr(str(1))}\n",
    "for_runtime_formula(test_for_data,2)"
   ]
  },
  {
   "cell_type": "code",
   "execution_count": 98,
   "metadata": {},
   "outputs": [
    {
     "output_type": "execute_result",
     "data": {
      "text/plain": [
       "ceil(n/2 - 3/2)"
      ],
      "text/latex": "$\\displaystyle \\operatorname{ceil}{\\left(\\frac{n}{2} - \\frac{3}{2} \\right)}$"
     },
     "metadata": {},
     "execution_count": 98
    }
   ],
   "source": [
    "ceil = sp.Function('ceil')\n",
    "upper_bound = parse_expr('n')\n",
    "lower_bound = parse_expr('3')\n",
    "increment = parse_expr('2')\n",
    "iterations = ceil((upper_bound-lower_bound)/increment)\n",
    "iterations"
   ]
  },
  {
   "cell_type": "code",
   "execution_count": 99,
   "metadata": {},
   "outputs": [],
   "source": [
    "def get_runtime(syntax_complete):\n",
    "    lines = syntax_complete.to_dict('records')\n",
    "    runtime = parse_expr('0')\n",
    "    for line in lines:\n",
    "        if line['order'] is 0:\n",
    "            runtime += line['runtime']\n",
    "    return runtime"
   ]
  },
  {
   "cell_type": "code",
   "execution_count": 100,
   "metadata": {},
   "outputs": [
    {
     "output_type": "execute_result",
     "data": {
      "text/plain": [
       "'10*ceil(n)**2 + 15*ceil(n) + 14'"
      ]
     },
     "metadata": {},
     "execution_count": 100
    }
   ],
   "source": [
    "str(sp.simplify(get_runtime(syntax_complete)))"
   ]
  }
 ]
}