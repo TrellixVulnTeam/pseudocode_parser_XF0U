{
 "metadata": {
  "language_info": {
   "codemirror_mode": {
    "name": "ipython",
    "version": 3
   },
   "file_extension": ".py",
   "mimetype": "text/x-python",
   "name": "python",
   "nbconvert_exporter": "python",
   "pygments_lexer": "ipython3",
   "version": "3.8.3-final"
  },
  "orig_nbformat": 2,
  "kernelspec": {
   "name": "python3",
   "display_name": "Python 3"
  }
 },
 "nbformat": 4,
 "nbformat_minor": 2,
 "cells": [
  {
   "cell_type": "code",
   "execution_count": 38,
   "metadata": {},
   "outputs": [],
   "source": [
    "import sympy as sp\n",
    "from sympy.parsing.sympy_parser import parse_expr\n",
    "import pandas as pd"
   ]
  },
  {
   "cell_type": "code",
   "execution_count": 39,
   "metadata": {},
   "outputs": [],
   "source": [
    "#This functions returns the lines from a .txt file\n",
    "def get_lines(filename):\n",
    "    file = open(filename, 'r+')\n",
    "    lines = file.readlines()\n",
    "    lines = map(lambda line : line[:-1],lines)\n",
    "    file.close()\n",
    "    return lines"
   ]
  },
  {
   "cell_type": "code",
   "execution_count": 40,
   "metadata": {},
   "outputs": [],
   "source": [
    "#This function returns the type of the statement \n",
    "def get_type(line):\n",
    "    #If not line.lower().find('x') returns true if x starts at line[0] \n",
    "    if not line.lower().find('inicio'):\n",
    "        return \"inicio\"\n",
    "    if not line.lower().find('pare'):\n",
    "        return \"pare\"\n",
    "    if not line.lower().find('para'):\n",
    "        return \"para\"\n",
    "    if not line.lower().find('lea'):\n",
    "        return \"lea\"\n",
    "    if not line.lower().find('esc'):\n",
    "        return \"esc\"\n",
    "    if not line.lower().find('fpara'):\n",
    "        return \"fpara\"\n",
    "    if not line.lower().find('sino'):\n",
    "        return \"sino\"\n",
    "    if not line.lower().find('si'):\n",
    "        return \"si\"\n",
    "    if not line.lower().find('fsi'):\n",
    "        return \"fsi\"\n",
    "    if line.lower().find('='):\n",
    "        return \"assignment\"\n",
    "    return \"Indefinite so far\""
   ]
  },
  {
   "cell_type": "code",
   "execution_count": 41,
   "metadata": {},
   "outputs": [],
   "source": [
    "#This function extracts for loop control data: bounds and increment\n",
    "def process_for(line):\n",
    "        raw_data = line[line.index('=')+1:]\n",
    "        split_data = raw_data.split(',')\n",
    "        lower_bound = parse_expr(split_data[0])\n",
    "        upper_bound = parse_expr(split_data[1])\n",
    "        increment = parse_expr(split_data[2])\n",
    "        return {\n",
    "            'lower_b' : lower_bound,\n",
    "            'upper_b' : upper_bound,\n",
    "            'inc' : increment\n",
    "        }"
   ]
  },
  {
   "cell_type": "code",
   "execution_count": 42,
   "metadata": {},
   "outputs": [],
   "source": [
    "#Finds the number of comparisons in an if statement\n",
    "def process_if(line):\n",
    "    comparisons = [pos for pos, char in enumerate(line) if char == '(']\n",
    "    return {\n",
    "        'comparisons' : len(comparisons)\n",
    "    }"
   ]
  },
  {
   "cell_type": "code",
   "execution_count": 43,
   "metadata": {},
   "outputs": [],
   "source": [
    "#First pass at getting statements runtime. Omits runtime for for loops and conditionals\n",
    "def new_get_statement_runtime(syntax):\n",
    "    lines_dict_list = lines = syntax.to_dict('records')\n",
    "    order = 0\n",
    "    for index in range(len(lines_dict_list)):\n",
    "        line = lines[index]\n",
    "        line_type = line['type']\n",
    "        if line_type in ('inicio','pare','sino'):\n",
    "            #order does not change\n",
    "            line['runtime'] = 0\n",
    "            line['order'] = order\n",
    "        elif line_type in (\"assignment\",'lea','esc'):\n",
    "            line['runtime'] = 1\n",
    "            line['order'] = order\n",
    "        elif  line_type in ('fsi','fpara'):\n",
    "            order -= 1\n",
    "            line['runtime'] = 0\n",
    "            line['order'] = order\n",
    "        elif line_type is 'para':\n",
    "            line['runtime'] = 'Nan'\n",
    "            line['data'] = process_for(line['line'])\n",
    "            line['order'] = order\n",
    "            order += 1\n",
    "        elif line_type is 'si':\n",
    "            line['runtime'] = 'Nan' \n",
    "            line['data'] = process_if(line['line'])\n",
    "            line['order'] = order\n",
    "            order +=1\n",
    "\n",
    "    \n",
    "    return pd.DataFrame.from_dict(lines)"
   ]
  },
  {
   "cell_type": "code",
   "execution_count": 44,
   "metadata": {},
   "outputs": [],
   "source": [
    "#returns the runtime for an if block\n",
    "def get_if_block_runtime(block_lines):\n",
    "    runtime = 0\n",
    "    for line in block_lines:\n",
    "        runtime += line['runtime']\n",
    "    return runtime"
   ]
  },
  {
   "cell_type": "code",
   "execution_count": 45,
   "metadata": {},
   "outputs": [],
   "source": [
    "#Returns an updated dataframe with the if statements runtime calculed\n",
    "def get_if_blocks_runtime(syntax):\n",
    "    lines_dict_list = lines = syntax.to_dict('records')\n",
    "    if_indices = [pos for pos, line in enumerate(lines) if line['type'] is 'si']\n",
    "    else_indices = [pos for pos, line in enumerate(lines) if line['type'] is 'sino']\n",
    "    end_if_indices = [pos for pos, line in enumerate(lines) if line['type'] is 'fsi']\n",
    "    # done = False\n",
    "\n",
    "    #Let's begin by processing the ifs statements\n",
    "    if_statements = []\n",
    "    for x, if_index in enumerate(if_indices):\n",
    "        #Find closing endif\n",
    "        end_if_index = end_if_indices[x]\n",
    "        #Is there an else?\n",
    "        else_index = False\n",
    "        for line_index in range(if_index,end_if_index):\n",
    "            if  line_index in else_indices:\n",
    "                else_index = line_index\n",
    "                break\n",
    "        # print((if_index,else_index,end_if_index))\n",
    "        comparisons = lines[if_index]['data']['comparisons']\n",
    "        if_runtime = comparisons\n",
    "        if else_index:\n",
    "            block_a = lines[if_index+1:else_index]\n",
    "            block_b = lines[else_index+1: end_if_index]\n",
    "            bloc_a_runtime = get_if_block_runtime(block_a)\n",
    "            bloc_b_runtime = get_if_block_runtime(block_b)\n",
    "            if_runtime += max(bloc_a_runtime,bloc_b_runtime)\n",
    "        else:\n",
    "            block = lines[if_index+1:end_if_index]\n",
    "            bloc_runtime = get_if_block_runtime(block)\n",
    "            if_runtime += bloc_runtime\n",
    "        # print((if_index,else_index,end_if_index,if_runtime))\n",
    "        lines[if_index]['runtime'] = if_runtime\n",
    "    return pd.DataFrame.from_dict(lines)"
   ]
  },
  {
   "cell_type": "code",
   "execution_count": 65,
   "metadata": {},
   "outputs": [],
   "source": [
    "#Returns runtime of a for block\n",
    "def for_runtime_formula(for_data,content_runtime):\n",
    "    lower_bound = for_data['lower_b']\n",
    "    upper_bound = for_data['upper_b']\n",
    "    try:\n",
    "        lower_bound = int(lower_bound)\n",
    "    except TypeError:\n",
    "        lower_bound = lower_bound\n",
    "    try: \n",
    "        upper_bound = int(upper_bound)\n",
    "    except TypeError:\n",
    "        upper_bound = upper_bound\n",
    "\n",
    "    increment = parse_expr(str(for_data['inc']))\n",
    "    if increment < 0:\n",
    "        lower_bound, upper_bound = upper_bound, lower_bound\n",
    "        increment = -1 * increment\n",
    "    ceil = sp.Function('ceil')\n",
    "    iterations = (ceil((upper_bound-lower_bound+1)/increment)*(content_runtime +2)) + 2\n",
    "    return iterations "
   ]
  },
  {
   "cell_type": "code",
   "execution_count": 66,
   "metadata": {},
   "outputs": [],
   "source": [
    "#For blocks are classified in inner (order 1) and outer (order 0). Runtime of inners are calculated first in order to calculate runtime of outers. If a for block is not nested it is assumed to be inner since its runtime does not depend on other for loop. The for order should not be confused with the line order (regarding indentation).\n",
    "def get_for_blocks_runtime(syntax):\n",
    "    lines_dict_list = lines = syntax.to_dict('records')\n",
    "    for_indices = [pos for pos, line in enumerate(lines) if line['type'] is 'para']\n",
    "    # print('for_indices',for_indices)\n",
    "    endfor_indices = [pos for pos,line in enumerate(lines) if line['type'] is 'fpara']\n",
    "    # print('endfor_indices',endfor_indices)\n",
    "    #get for blocks and their orders\n",
    "    block_orders = []\n",
    "    for x ,for_index in enumerate(for_indices):\n",
    "        if x < len(for_indices) -1 :\n",
    "            next_end_for = endfor_indices[x]\n",
    "            next_for = for_indices[x+1]\n",
    "            if next_for < next_end_for:\n",
    "                block_orders.append((for_index,0))\n",
    "            else:\n",
    "                block_orders.append((for_index,1))\n",
    "        else:\n",
    "            block_orders.append((for_index,1))\n",
    "    # print(block_orders)\n",
    "\n",
    "    #get inner for runtime\n",
    "    for for_index in [bloc_order[0] for bloc_order in block_orders if bloc_order[1] is 1]:\n",
    "        # print(for_index)\n",
    "        for end_for in endfor_indices:\n",
    "            if end_for > for_index:\n",
    "                break\n",
    "        for_order = lines[for_index]['order']\n",
    "        instruction_order = for_order + 1\n",
    "        inner_instructions = lines[for_index+1:end_for]\n",
    "        content_runtime = 0 #placeholder\n",
    "        for line in inner_instructions:\n",
    "            #Selects elements that have +1 order above the loop\n",
    "            if(line['order'] is instruction_order):\n",
    "                content_runtime+= line['runtime']\n",
    "        for_runtime = for_runtime_formula(lines[for_index]['data'],content_runtime)\n",
    "        lines[for_index]['runtime'] = for_runtime\n",
    "    \n",
    "\n",
    "    #get outer for runtimes\n",
    "    for for_index in [bloc_order[0] for bloc_order in block_orders if bloc_order[1] is 0]:\n",
    "        for x, end_for in enumerate(endfor_indices):\n",
    "            if lines[end_for]['order'] == lines[for_index]['order'] and end_for >for_index:\n",
    "                break\n",
    "        for_order = lines[for_index]['order']\n",
    "        instruction_order = for_order + 1\n",
    "        inner_instructions = lines[for_index+1:end_for]\n",
    "        content_runtime = \"\" #placeholder\n",
    "        for line in inner_instructions:\n",
    "            #selects instructions that are 1 order above the for loop line order\n",
    "            if(line['order'] is instruction_order):\n",
    "                content_runtime += '+'+str(line['runtime'])\n",
    "        for_runtime =for_runtime_formula(lines[for_index]['data'],parse_expr(str(content_runtime)))\n",
    "        lines[for_index]['runtime'] = for_runtime \n",
    "    return pd.DataFrame.from_dict(lines)"
   ]
  },
  {
   "cell_type": "code",
   "execution_count": 67,
   "metadata": {},
   "outputs": [],
   "source": [
    "#Based on the runtime data extracted from the previous steps, sum all the first order \n",
    "def calculate_runtime(syntax_complete):\n",
    "    lines = syntax_complete.to_dict('records')\n",
    "    runtime = parse_expr('0')\n",
    "    for line in lines:\n",
    "        if line['order'] is 0:\n",
    "            runtime += line['runtime']\n",
    "    return sp.simplify(runtime)"
   ]
  },
  {
   "cell_type": "code",
   "execution_count": 68,
   "metadata": {},
   "outputs": [],
   "source": [
    "def get_total_runtime(filename):\n",
    "    lines = get_lines(filename)\n",
    "    syntax = pd.DataFrame(data=lines, columns=['line'])\n",
    "    syntax[\"length\"] = syntax[\"line\"].map(lambda line: len(line))\n",
    "    syntax[\"type\"] = syntax[\"line\"].map(get_type)\n",
    "    new_syntax = new_get_statement_runtime(syntax)\n",
    "    syntax_with_ifs = get_if_blocks_runtime(new_syntax)\n",
    "    syntax_complete = get_for_blocks_runtime(syntax_with_ifs)\n",
    "    runtime = calculate_runtime(syntax_complete)\n",
    "    return (runtime, syntax_complete)"
   ]
  },
  {
   "cell_type": "code",
   "execution_count": 71,
   "metadata": {},
   "outputs": [
    {
     "output_type": "execute_result",
     "data": {
      "text/plain": [
       "5*ceil(n) + 6"
      ],
      "text/latex": "$\\displaystyle 5 \\operatorname{ceil}{\\left(n \\right)} + 6$"
     },
     "metadata": {},
     "execution_count": 71
    }
   ],
   "source": [
    "index = 2\n",
    "filename = './tests/ejercicio' + str(index) + '.txt'\n",
    "total_runtime = get_total_runtime(filename)\n",
    "total_runtime[0]"
   ]
  },
  {
   "cell_type": "code",
   "execution_count": 72,
   "metadata": {},
   "outputs": [
    {
     "output_type": "execute_result",
     "data": {
      "text/plain": [
       "                 line  length        type        runtime  order  \\\n",
       "0              Inicio       6      inicio              0      0   \n",
       "1               Lea n       5         lea              1      0   \n",
       "2                 s=0       3  assignment              1      0   \n",
       "3       Para i=n,1,-1      13        para  5*ceil(n) + 2      0   \n",
       "4             t=nmodi       7  assignment              1      1   \n",
       "5            Si (t=0)       8          si              2      1   \n",
       "6               s=s+1       5  assignment              1      2   \n",
       "7                 Fsi       3         fsi              0      1   \n",
       "8               Fpara       5       fpara              0      0   \n",
       "9            Si (s>2)       8          si              2      0   \n",
       "10     Esc “es primo”      14         esc              1      1   \n",
       "11               sino       4        sino              0      1   \n",
       "12  Esc “no es primo”      17         esc              1      1   \n",
       "13                Fsi       3         fsi              0      0   \n",
       "14               Pare       4        pare              0      0   \n",
       "\n",
       "                                       data  \n",
       "0                                       NaN  \n",
       "1                                       NaN  \n",
       "2                                       NaN  \n",
       "3   {'lower_b': n, 'upper_b': 1, 'inc': -1}  \n",
       "4                                       NaN  \n",
       "5                        {'comparisons': 1}  \n",
       "6                                       NaN  \n",
       "7                                       NaN  \n",
       "8                                       NaN  \n",
       "9                        {'comparisons': 1}  \n",
       "10                                      NaN  \n",
       "11                                      NaN  \n",
       "12                                      NaN  \n",
       "13                                      NaN  \n",
       "14                                      NaN  "
      ],
      "text/html": "<div>\n<style scoped>\n    .dataframe tbody tr th:only-of-type {\n        vertical-align: middle;\n    }\n\n    .dataframe tbody tr th {\n        vertical-align: top;\n    }\n\n    .dataframe thead th {\n        text-align: right;\n    }\n</style>\n<table border=\"1\" class=\"dataframe\">\n  <thead>\n    <tr style=\"text-align: right;\">\n      <th></th>\n      <th>line</th>\n      <th>length</th>\n      <th>type</th>\n      <th>runtime</th>\n      <th>order</th>\n      <th>data</th>\n    </tr>\n  </thead>\n  <tbody>\n    <tr>\n      <th>0</th>\n      <td>Inicio</td>\n      <td>6</td>\n      <td>inicio</td>\n      <td>0</td>\n      <td>0</td>\n      <td>NaN</td>\n    </tr>\n    <tr>\n      <th>1</th>\n      <td>Lea n</td>\n      <td>5</td>\n      <td>lea</td>\n      <td>1</td>\n      <td>0</td>\n      <td>NaN</td>\n    </tr>\n    <tr>\n      <th>2</th>\n      <td>s=0</td>\n      <td>3</td>\n      <td>assignment</td>\n      <td>1</td>\n      <td>0</td>\n      <td>NaN</td>\n    </tr>\n    <tr>\n      <th>3</th>\n      <td>Para i=n,1,-1</td>\n      <td>13</td>\n      <td>para</td>\n      <td>5*ceil(n) + 2</td>\n      <td>0</td>\n      <td>{'lower_b': n, 'upper_b': 1, 'inc': -1}</td>\n    </tr>\n    <tr>\n      <th>4</th>\n      <td>t=nmodi</td>\n      <td>7</td>\n      <td>assignment</td>\n      <td>1</td>\n      <td>1</td>\n      <td>NaN</td>\n    </tr>\n    <tr>\n      <th>5</th>\n      <td>Si (t=0)</td>\n      <td>8</td>\n      <td>si</td>\n      <td>2</td>\n      <td>1</td>\n      <td>{'comparisons': 1}</td>\n    </tr>\n    <tr>\n      <th>6</th>\n      <td>s=s+1</td>\n      <td>5</td>\n      <td>assignment</td>\n      <td>1</td>\n      <td>2</td>\n      <td>NaN</td>\n    </tr>\n    <tr>\n      <th>7</th>\n      <td>Fsi</td>\n      <td>3</td>\n      <td>fsi</td>\n      <td>0</td>\n      <td>1</td>\n      <td>NaN</td>\n    </tr>\n    <tr>\n      <th>8</th>\n      <td>Fpara</td>\n      <td>5</td>\n      <td>fpara</td>\n      <td>0</td>\n      <td>0</td>\n      <td>NaN</td>\n    </tr>\n    <tr>\n      <th>9</th>\n      <td>Si (s&gt;2)</td>\n      <td>8</td>\n      <td>si</td>\n      <td>2</td>\n      <td>0</td>\n      <td>{'comparisons': 1}</td>\n    </tr>\n    <tr>\n      <th>10</th>\n      <td>Esc “es primo”</td>\n      <td>14</td>\n      <td>esc</td>\n      <td>1</td>\n      <td>1</td>\n      <td>NaN</td>\n    </tr>\n    <tr>\n      <th>11</th>\n      <td>sino</td>\n      <td>4</td>\n      <td>sino</td>\n      <td>0</td>\n      <td>1</td>\n      <td>NaN</td>\n    </tr>\n    <tr>\n      <th>12</th>\n      <td>Esc “no es primo”</td>\n      <td>17</td>\n      <td>esc</td>\n      <td>1</td>\n      <td>1</td>\n      <td>NaN</td>\n    </tr>\n    <tr>\n      <th>13</th>\n      <td>Fsi</td>\n      <td>3</td>\n      <td>fsi</td>\n      <td>0</td>\n      <td>0</td>\n      <td>NaN</td>\n    </tr>\n    <tr>\n      <th>14</th>\n      <td>Pare</td>\n      <td>4</td>\n      <td>pare</td>\n      <td>0</td>\n      <td>0</td>\n      <td>NaN</td>\n    </tr>\n  </tbody>\n</table>\n</div>"
     },
     "metadata": {},
     "execution_count": 72
    }
   ],
   "source": [
    "total_runtime[1]"
   ]
  },
  {
   "cell_type": "code",
   "execution_count": null,
   "metadata": {},
   "outputs": [],
   "source": []
  }
 ]
}